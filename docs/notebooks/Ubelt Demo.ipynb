{
 "cells": [
  {
   "cell_type": "markdown",
   "metadata": {},
   "source": [
    "Timing\n",
    "------\n",
    "\n",
    "Quickly time a single line."
   ]
  },
  {
   "cell_type": "code",
   "execution_count": 154,
   "metadata": {},
   "outputs": [
    {
     "name": "stdout",
     "output_type": "stream",
     "text": [
      "\n",
      "tic('Timer demo!')\n",
      "...toc('Timer demo!')=0.0933s\n"
     ]
    }
   ],
   "source": [
    "import math\n",
    "import ubelt as ub\n",
    "timer = ub.Timer('Timer demo!', verbose=1)\n",
    "with timer:\n",
    "    math.factorial(100000)"
   ]
  },
  {
   "cell_type": "markdown",
   "metadata": {},
   "source": [
    "Loop Progress\n",
    "-------------\n",
    "\n",
    "``ProgIter`` is a (mostly) drop-in alternative to\n",
    "```tqdm`` <https://pypi.python.org/pypi/tqdm>`__. \n",
    "*The advantage of ``ProgIter`` is that it does not use any python threading*,\n",
    "and therefore can be safer with code that makes heavy use of multiprocessing.\n",
    "\n",
    "Note: ProgIter is now a standalone module: ``pip intstall progiter``)"
   ]
  },
  {
   "cell_type": "code",
   "execution_count": 155,
   "metadata": {},
   "outputs": [
    {
     "name": "stdout",
     "output_type": "stream",
     "text": [
      " 7500/7500... rate=3321.68 Hz, eta=0:00:00, total=0:00:0200\n"
     ]
    }
   ],
   "source": [
    "import ubelt as ub\n",
    "import math\n",
    "for n in ub.ProgIter(range(7500)):\n",
    "     math.factorial(n)"
   ]
  },
  {
   "cell_type": "code",
   "execution_count": 156,
   "metadata": {},
   "outputs": [
    {
     "name": "stdout",
     "output_type": "stream",
     "text": [
      " 7500/7500... rate=3305.80 Hz, eta=0:00:00, total=0:00:0200\n"
     ]
    }
   ],
   "source": [
    "import ubelt as ub\n",
    "import math\n",
    "for n in ub.ProgIter(range(7500), freq=1000, adjust=False):\n",
    "     math.factorial(n)\n",
    "        \n",
    "# Note that forcing freq=2 all the time comes at a performance cost\n",
    "# The default adjustment algorithm causes almost no overhead"
   ]
  },
  {
   "cell_type": "code",
   "execution_count": 157,
   "metadata": {},
   "outputs": [
    {
     "name": "stdout",
     "output_type": "stream",
     "text": [
      "    0/1000... rate=0 Hz, eta=?, total=0:00:00\n",
      "    1/1000... rate=126214.91 Hz, eta=0:00:00, total=0:00:00\n",
      "    4/1000... rate=16279.95 Hz, eta=0:00:00, total=0:00:00\n",
      "   16/1000... rate=35893.59 Hz, eta=0:00:00, total=0:00:00\n",
      "   64/1000... rate=88745.17 Hz, eta=0:00:00, total=0:00:00\n",
      "  256/1000... rate=201950.56 Hz, eta=0:00:00, total=0:00:00\n",
      " 1000/1000... rate=183798.63 Hz, eta=0:00:00, total=0:00:00\n"
     ]
    }
   ],
   "source": [
    ">>> import ubelt as ub\n",
    ">>> def is_prime(n):\n",
    "...     return n >= 2 and not any(n % i == 0 for i in range(2, n))\n",
    ">>> for n in ub.ProgIter(range(1000), verbose=2):\n",
    ">>>     # do some work\n",
    ">>>     is_prime(n)"
   ]
  },
  {
   "cell_type": "markdown",
   "metadata": {},
   "source": [
    "Caching\n",
    "-------\n",
    "\n",
    "Cache intermediate results from blocks of code inside a script with minimal\n",
    "boilerplate or modification to the original code.  \n",
    "\n",
    "For direct caching of data, use the ``Cacher`` class.  By default results will\n",
    "be written to the ubelt's appdir cache, but the exact location can be specified\n",
    "via ``dpath`` or the ``appname`` arguments.  Additionally, process dependencies\n",
    "can be specified via the ``depends`` argument, which allows for implicit cache\n",
    "invalidation.  As far as I can tell, this is the most concise way (4 lines of\n",
    "boilerplate) to cache a block of code with existing Python syntax (as of\n",
    "2022-06-03).\n"
   ]
  },
  {
   "cell_type": "code",
   "execution_count": 158,
   "metadata": {},
   "outputs": [
    {
     "name": "stdout",
     "output_type": "stream",
     "text": [
      "[cacher] tryload fname=test_process\n",
      "[cacher] ... cache does not exist: dpath=myapp fname=test_process cfgstr=66783cfd3e2c9799bb98f5eec57738915ec3777be02e395a0e10ad566c07f2c25876fd1edd4f4fc2280601cae3c09efe539f18f2c5a7bb954764786f5be4b72b\n",
      "[cacher] ... test_process cache miss\n",
      "[cacher] ... test_process cache save\n",
      "[cacher] tryload fname=test_process\n",
      "[cacher] ... test_process cache hit\n"
     ]
    }
   ],
   "source": [
    "import ubelt as ub\n",
    "depends = ['config', {'of': 'params'}, 'that-uniquely-determine-the-process']\n",
    "cacher = ub.Cacher('test_process', depends=depends, appname='myapp', verbose=3)\n",
    "\n",
    "if 1:\n",
    "    cacher.fpath.delete()\n",
    "    \n",
    "for _ in range(2):\n",
    "    data = cacher.tryload()\n",
    "    if data is None:\n",
    "        myvar1 = 'result of expensive process'\n",
    "        myvar2 = 'another result'\n",
    "        data = myvar1, myvar2\n",
    "        cacher.save(data)\n",
    "    myvar1, myvar2 = data"
   ]
  },
  {
   "cell_type": "markdown",
   "metadata": {},
   "source": [
    "For indirect caching, use the ``CacheStamp`` class. This simply writes a\n",
    "\"stamp\" file that marks that a process has completed. Additionally you can\n",
    "specify criteria for when the stamp should expire. If you let ``CacheStamp``\n",
    "know about the expected \"product\", it will expire the stamp if that file has\n",
    "changed, which can be useful in situations where caches might becomes corrupt\n",
    "or need invalidation."
   ]
  },
  {
   "cell_type": "code",
   "execution_count": 159,
   "metadata": {},
   "outputs": [
    {
     "name": "stdout",
     "output_type": "stream",
     "text": [
      "[cacher] tryload fname=name\n",
      "[cacher] ... cache does not exist: dpath=cache fname=name cfgstr=4a166a5cbaa2926ccceb1620ee63fa1e3c4626229e887c7604b88b44e5f5df021e172437c359614dfdce1be2043909aa54194da54b6bd20b9e1f558b48756a26\n",
      "[cacher] ... name cache miss\n",
      "[cacher] stamp expired no_cert\n",
      "[cacher] ... name cache save\n",
      "[cacher] tryload fname=name\n",
      "[cacher] ... name cache hit\n"
     ]
    }
   ],
   "source": [
    "import ubelt as ub\n",
    "dpath = ub.Path.appdir('ubelt/demo/cache').delete().ensuredir()\n",
    "params = {'params1': 1, 'param2': 2}\n",
    "expected_fpath = dpath / 'file.txt'\n",
    "stamp = ub.CacheStamp('name', dpath=dpath, depends=params,\n",
    "                     hasher='sha256', product=expected_fpath,\n",
    "                     expires='2101-01-01T000000Z', verbose=3)\n",
    "\n",
    "if 1:\n",
    "    stamp.fpath.delete()\n",
    "    \n",
    "for _ in range(2):\n",
    "    if stamp.expired():\n",
    "        expected_fpath.write_text('expensive process')\n",
    "        stamp.renew()"
   ]
  },
  {
   "cell_type": "markdown",
   "metadata": {},
   "source": [
    "Hashing\n",
    "-------\n",
    "\n",
    "The ``ub.hash_data`` constructs a hash for common Python nested data\n",
    "structures. Extensions to allow it to hash custom types can be registered.  By\n",
    "default it handles lists, dicts, sets, slices, uuids, and numpy arrays."
   ]
  },
  {
   "cell_type": "code",
   "execution_count": 160,
   "metadata": {},
   "outputs": [
    {
     "data": {
      "text/plain": [
       "'0d95771ff684756d7be7895b5594b8f8484adecef03b46002f97ebeb1155fb15'"
      ]
     },
     "execution_count": 160,
     "metadata": {},
     "output_type": "execute_result"
    }
   ],
   "source": [
    "import ubelt as ub\n",
    "data = [('arg1', 5), ('lr', .01), ('augmenters', ['flip', 'translate'])]\n",
    "ub.hash_data(data, hasher='sha256')"
   ]
  },
  {
   "cell_type": "markdown",
   "metadata": {},
   "source": [
    "Support for torch tensors and pandas data frames are also included, but needs to\n",
    "be explicitly enabled.  There also exists an non-public plugin architecture to\n",
    "extend this function to arbitrary types. While not officially supported, it is\n",
    "usable and will become better integrated in the future. See\n",
    "``ubelt/util_hash.py`` for details."
   ]
  },
  {
   "cell_type": "markdown",
   "metadata": {},
   "source": [
    "Command Line Interaction\n",
    "------------------------\n",
    "\n",
    "The builtin Python ``subprocess.Popen`` module is great, but it can be a\n",
    "bit clunky at times. The ``os.system`` command is easy to use, but it\n",
    "doesn't have much flexibility. The ``ub.cmd`` function aims to fix this.\n",
    "It is as simple to run as ``os.system``, but it returns a dictionary\n",
    "containing the return code, standard out, standard error, and the\n",
    "``Popen`` object used under the hood."
   ]
  },
  {
   "cell_type": "code",
   "execution_count": 161,
   "metadata": {},
   "outputs": [
    {
     "name": "stdout",
     "output_type": "stream",
     "text": [
      "cmake version 3.22.1\n",
      "\n",
      "CMake suite maintained and supported by Kitware (kitware.com/cmake).\n",
      "\n"
     ]
    }
   ],
   "source": [
    "import ubelt as ub\n",
    "info = ub.cmd('cmake --version')\n",
    "# Quickly inspect and parse output of a \n",
    "print(info['out'])"
   ]
  },
  {
   "cell_type": "code",
   "execution_count": 162,
   "metadata": {},
   "outputs": [
    {
     "name": "stdout",
     "output_type": "stream",
     "text": [
      "{\n",
      "    'command': 'cmake --version',\n",
      "    'cwd': None,\n",
      "    'err': '',\n",
      "    'proc': <Popen: returncode: 0 args: ['cmake', '--version']>,\n",
      "    'ret': 0,\n",
      "}\n"
     ]
    }
   ],
   "source": [
    "# The info dict contains other useful data\n",
    "print(ub.repr2({k: v for k, v in info.items() if 'out' != k}))"
   ]
  },
  {
   "cell_type": "code",
   "execution_count": 163,
   "metadata": {},
   "outputs": [
    {
     "name": "stdout",
     "output_type": "stream",
     "text": [
      "cmake version 3.22.1\n",
      "\n",
      "CMake suite maintained and supported by Kitware (kitware.com/cmake).\n"
     ]
    }
   ],
   "source": [
    "# Also possible to simultaneously capture and display output in realtime\n",
    "info = ub.cmd('cmake --version', tee=1)"
   ]
  },
  {
   "cell_type": "code",
   "execution_count": 164,
   "metadata": {},
   "outputs": [
    {
     "name": "stdout",
     "output_type": "stream",
     "text": [
      "[ubelt.cmd] joncrall@toothbrush:~/code/ubelt/docs/notebooks$ cmake --version\n",
      "cmake version 3.22.1\n",
      "\n",
      "CMake suite maintained and supported by Kitware (kitware.com/cmake).\n"
     ]
    }
   ],
   "source": [
    "# tee=True is equivalent to using verbose=1, but there is also verbose=2\n",
    "info = ub.cmd('cmake --version', verbose=2)"
   ]
  },
  {
   "cell_type": "code",
   "execution_count": 165,
   "metadata": {},
   "outputs": [
    {
     "name": "stdout",
     "output_type": "stream",
     "text": [
      "┌─── START CMD ───\n",
      "[ubelt.cmd] joncrall@toothbrush:~/code/ubelt/docs/notebooks$ cmake --version\n",
      "cmake version 3.22.1\n",
      "\n",
      "CMake suite maintained and supported by Kitware (kitware.com/cmake).\n",
      "└─── END CMD ───\n"
     ]
    }
   ],
   "source": [
    "# and verbose=3\n",
    "info = ub.cmd('cmake --version', verbose=3)"
   ]
  },
  {
   "cell_type": "markdown",
   "metadata": {},
   "source": [
    "Cross-Platform Config and Cache Directories\n",
    "-------------------------------------------\n",
    "\n",
    "If you have an application which writes configuration or cache files,\n",
    "the standard place to dump those files differs depending if you are on\n",
    "Windows, Linux, or Mac. Ubelt offers a unified functions for determining\n",
    "what these paths are.\n",
    "\n",
    "The ``ub.ensure_app_cache_dir`` and ``ub.ensure_app_config_dir``\n",
    "functions find the correct platform-specific location for these files\n",
    "and ensures that the directories exist. (Note: replacing \"ensure\" with\n",
    "\"get\" will simply return the path, but not ensure that it exists)\n",
    "\n",
    "The config root directory is ``~/AppData/Roaming`` on Windows,\n",
    "``~/.config`` on Linux and ``~/Library/Application Support`` on Mac. The\n",
    "cache root directory is ``~/AppData/Local`` on Windows, ``~/.config`` on\n",
    "Linux and ``~/Library/Caches`` on Mac.\n",
    "\n",
    "Example usage on Linux might look like this:"
   ]
  },
  {
   "cell_type": "code",
   "execution_count": 166,
   "metadata": {
    "scrolled": true
   },
   "outputs": [
    {
     "name": "stdout",
     "output_type": "stream",
     "text": [
      "~/.cache/my_app\n",
      "~/.config/my_app\n"
     ]
    }
   ],
   "source": [
    "import ubelt as ub\n",
    "print(ub.shrinkuser(ub.ensure_app_cache_dir('my_app')))\n",
    "print(ub.shrinkuser(ub.ensure_app_config_dir('my_app')))"
   ]
  },
  {
   "cell_type": "markdown",
   "metadata": {},
   "source": [
    "New in version 1.0.0: the ``ub.Path.appdir`` classmethod provides a way to\n",
    "achieve the above with a chainable object oriented interface."
   ]
  },
  {
   "cell_type": "code",
   "execution_count": 167,
   "metadata": {},
   "outputs": [
    {
     "name": "stdout",
     "output_type": "stream",
     "text": [
      "~/.cache/my_app\n",
      "~/.config/my_app\n"
     ]
    }
   ],
   "source": [
    "import ubelt as ub\n",
    "print(ub.Path.appdir('my_app').ensuredir().shrinkuser())\n",
    "print(ub.Path.appdir('my_app', type='config').ensuredir().shrinkuser())"
   ]
  },
  {
   "cell_type": "markdown",
   "metadata": {},
   "source": [
    "Downloading Files\n",
    "-----------------\n",
    "\n",
    "The function ``ub.download`` provides a simple interface to download a\n",
    "URL and save its data to a file.\n",
    "\n",
    "The function ``ub.grabdata`` works similarly to ``ub.download``, but\n",
    "whereas ``ub.download`` will always re-download the file,\n",
    "``ub.grabdata`` will check if the file exists and only re-download it if\n",
    "it needs to.\n",
    "\n",
    "New in version 0.4.0: both functions now accepts the ``hash_prefix`` keyword\n",
    "argument, which if specified will check that the hash of the file matches the\n",
    "provided value. The ``hasher`` keyword argument can be used to change which\n",
    "hashing algorithm is used (it defaults to ``\"sha512\"``)."
   ]
  },
  {
   "cell_type": "code",
   "execution_count": 168,
   "metadata": {},
   "outputs": [
    {
     "name": "stdout",
     "output_type": "stream",
     "text": [
      "~/.cache/ubelt/rqwaDag.png\n"
     ]
    }
   ],
   "source": [
    "    >>> import ubelt as ub\n",
    "    >>> url = 'http://i.imgur.com/rqwaDag.png'\n",
    "    >>> fpath = ub.download(url, verbose=0)\n",
    "    >>> print(ub.shrinkuser(fpath))"
   ]
  },
  {
   "cell_type": "code",
   "execution_count": 169,
   "metadata": {},
   "outputs": [
    {
     "name": "stdout",
     "output_type": "stream",
     "text": [
      "~/.cache/ubelt/rqwaDag.png\n"
     ]
    }
   ],
   "source": [
    "    >>> import ubelt as ub\n",
    "    >>> url = 'http://i.imgur.com/rqwaDag.png'\n",
    "    >>> fpath = ub.grabdata(url, verbose=0, hash_prefix='944389a39')\n",
    "    >>> print(ub.shrinkuser(fpath))"
   ]
  },
  {
   "cell_type": "code",
   "execution_count": 170,
   "metadata": {},
   "outputs": [
    {
     "name": "stdout",
     "output_type": "stream",
     "text": [
      "[cacher] tryload fname=rqwaDag.png.stamp\n",
      "[cacher] ... rqwaDag.png.stamp cache hit\n",
      "[cacher] tryload fname=rqwaDag.png.stamp\n",
      "[cacher] ... rqwaDag.png.stamp cache hit\n",
      "invalid hash prefix value (expected \"wrong-944389a39dfb8f\", got \"944389a39dfb8fa9e3d075bc25416d56782093d5dca88a1f84cac16bf515fa12aeebbbebf91f1e31e8beb59468a7a5f3a69ab12ac1e3c1d1581e1ad9688b766f\")\n",
      "invalid hash prefix value (expected \"wrong-944389a39dfb8f\", got \"944389a39dfb8fa9e3d075bc25416d56782093d5dca88a1f84cac16bf515fa12aeebbbebf91f1e31e8beb59468a7a5f3a69ab12ac1e3c1d1581e1ad9688b766f\")\n",
      "Downloading url='http://i.imgur.com/rqwaDag.png' to fpath='/home/joncrall/.cache/ubelt/rqwaDag.png'\n",
      " 1233/1233... rate=2669535.98 Hz, eta=0:00:00, total=0:00:00\n",
      "hash_prefix = 'wrong-944389a39dfb8f'\n",
      "got = '944389a39dfb8fa9e3d075bc25416d56782093d5dca88a1f84cac16bf515fa12aeebbbebf91f1e31e8beb59468a7a5f3a69ab12ac1e3c1d1581e1ad9688b766f'\n",
      "type(ex) = <class 'RuntimeError'>\n"
     ]
    }
   ],
   "source": [
    "url = 'http://i.imgur.com/rqwaDag.png'\n",
    "ub.grabdata(url, verbose=3, hash_prefix='944389a39dfb8f')\n",
    "\n",
    "try:\n",
    "    ub.grabdata(url, verbose=3, hash_prefix='wrong-944389a39dfb8f')\n",
    "except RuntimeError as ex:\n",
    "    print('type(ex) = {!r}'.format(type(ex)))"
   ]
  },
  {
   "cell_type": "markdown",
   "metadata": {},
   "source": [
    "# Dictionary Tools"
   ]
  },
  {
   "cell_type": "code",
   "execution_count": 171,
   "metadata": {
    "scrolled": true
   },
   "outputs": [
    {
     "name": "stdout",
     "output_type": "stream",
     "text": [
      "{\n",
      "    'dairy': ['cheese'],\n",
      "    'fruit': ['jam', 'bannana'],\n",
      "    'protein': ['ham', 'spam', 'eggs'],\n",
      "}\n"
     ]
    }
   ],
   "source": [
    "import ubelt as ub\n",
    "items    = ['ham',     'jam',   'spam',     'eggs',    'cheese', 'bannana']\n",
    "groupids = ['protein', 'fruit', 'protein',  'protein', 'dairy',  'fruit']\n",
    "groups = ub.group_items(items, groupids)\n",
    "print(ub.repr2(groups, nl=1))"
   ]
  },
  {
   "cell_type": "code",
   "execution_count": 172,
   "metadata": {},
   "outputs": [
    {
     "data": {
      "text/plain": [
       "{1: 1, 2: 4, 39: 1, 900: 3, 1232: 2}"
      ]
     },
     "execution_count": 172,
     "metadata": {},
     "output_type": "execute_result"
    }
   ],
   "source": [
    "import ubelt as ub\n",
    "items = [1, 2, 39, 900, 1232, 900, 1232, 2, 2, 2, 900]\n",
    "ub.dict_hist(items)"
   ]
  },
  {
   "cell_type": "code",
   "execution_count": 173,
   "metadata": {},
   "outputs": [
    {
     "data": {
      "text/plain": [
       "{0: [0, 1, 6], 2: [3, 8], 3: [4, 5]}"
      ]
     },
     "execution_count": 173,
     "metadata": {},
     "output_type": "execute_result"
    }
   ],
   "source": [
    "import ubelt as ub\n",
    "items = [0, 0, 1, 2, 3, 3, 0, 12, 2, 9]\n",
    "ub.find_duplicates(items, k=2)"
   ]
  },
  {
   "cell_type": "code",
   "execution_count": 174,
   "metadata": {},
   "outputs": [
    {
     "name": "stdout",
     "output_type": "stream",
     "text": [
      "OrderedDict([('K', 3), ('dcvs_clip_max', 0.2)])\n"
     ]
    }
   ],
   "source": [
    "import ubelt as ub\n",
    "dict_ = {'K': 3, 'dcvs_clip_max': 0.2, 'p': 0.1}\n",
    "subdict_ = ub.dict_subset(dict_, ['K', 'dcvs_clip_max'])\n",
    "print(subdict_)"
   ]
  },
  {
   "cell_type": "code",
   "execution_count": 175,
   "metadata": {},
   "outputs": [
    {
     "name": "stdout",
     "output_type": "stream",
     "text": [
      "['a', 'c', None, None]\n"
     ]
    }
   ],
   "source": [
    "import ubelt as ub\n",
    "dict_ = {1: 'a', 2: 'b', 3: 'c'}\n",
    "print(list(ub.take(dict_, [1, 3, 4, 5], default=None)))"
   ]
  },
  {
   "cell_type": "code",
   "execution_count": 176,
   "metadata": {},
   "outputs": [
    {
     "name": "stdout",
     "output_type": "stream",
     "text": [
      "{'a': 3, 'b': 0}\n"
     ]
    }
   ],
   "source": [
    "import ubelt as ub\n",
    "dict_ = {'a': [1, 2, 3], 'b': []}\n",
    "newdict = ub.map_vals(len, dict_)\n",
    "print(newdict)"
   ]
  },
  {
   "cell_type": "code",
   "execution_count": 177,
   "metadata": {},
   "outputs": [
    {
     "data": {
      "text/plain": [
       "{'a': 0, 'b': 1, 'c': 2, 'd': 3}"
      ]
     },
     "execution_count": 177,
     "metadata": {},
     "output_type": "execute_result"
    }
   ],
   "source": [
    "import ubelt as ub\n",
    "mapping = {0: 'a', 1: 'b', 2: 'c', 3: 'd'}\n",
    "ub.invert_dict(mapping)"
   ]
  },
  {
   "cell_type": "code",
   "execution_count": 178,
   "metadata": {},
   "outputs": [
    {
     "data": {
      "text/plain": [
       "{0: {'A', 'a'}, 1: {'b'}, 2: {'C', 'c'}, 3: {'d'}}"
      ]
     },
     "execution_count": 178,
     "metadata": {},
     "output_type": "execute_result"
    }
   ],
   "source": [
    "import ubelt as ub\n",
    "mapping = {'a': 0, 'A': 0, 'b': 1, 'c': 2, 'C': 2, 'd': 3}\n",
    "ub.invert_dict(mapping, unique_vals=False)"
   ]
  },
  {
   "cell_type": "markdown",
   "metadata": {},
   "source": [
    "AutoDict - Autovivification\n",
    "---------------------------\n",
    "\n",
    "While the ``collections.defaultdict`` is nice, it is sometimes more\n",
    "convenient to have an infinitely nested dictionary of dictionaries.\n",
    "\n",
    "(But be careful, you may start to write in Perl) "
   ]
  },
  {
   "cell_type": "code",
   "execution_count": 179,
   "metadata": {},
   "outputs": [
    {
     "name": "stdout",
     "output_type": "stream",
     "text": [
      "auto = {}\n",
      "auto = {0: {10: {100: None}}}\n",
      "auto = {0: {10: {100: None}, 1: 'hello'}}\n"
     ]
    }
   ],
   "source": [
    ">>> import ubelt as ub\n",
    ">>> auto = ub.AutoDict()\n",
    ">>> print('auto = {!r}'.format(auto))\n",
    ">>> auto[0][10][100] = None\n",
    ">>> print('auto = {!r}'.format(auto))\n",
    ">>> auto[0][1] = 'hello'\n",
    ">>> print('auto = {!r}'.format(auto))"
   ]
  },
  {
   "cell_type": "markdown",
   "metadata": {},
   "source": [
    "String-based imports\n",
    "--------------------\n",
    "\n",
    "Ubelt contains functions to import modules dynamically without using the\n",
    "python ``import`` statement. While ``importlib`` exists, the ``ubelt``\n",
    "implementation is simpler to user and does not have the disadvantage of\n",
    "breaking ``pytest``.\n",
    "\n",
    "Note ``ubelt`` simply provides an interface to this functionality, the\n",
    "core implementation is in ``xdoctest`` (over as of version ``0.7.0``, \n",
    "the code is statically copied into an autogenerated file such that ``ubelt``\n",
    "does not actually depend on ``xdoctest`` during runtime)."
   ]
  },
  {
   "cell_type": "code",
   "execution_count": 180,
   "metadata": {},
   "outputs": [
    {
     "name": "stdout",
     "output_type": "stream",
     "text": [
      "module = <module 'ubelt' from '/home/joncrall/code/ubelt/ubelt/__init__.py'>\n",
      "module = <module 'ubelt' from '/home/joncrall/code/ubelt/ubelt/__init__.py'>\n",
      "ubelt.util_import\n"
     ]
    }
   ],
   "source": [
    "import ubelt as ub\n",
    "try:\n",
    "    # This is where I keep ubelt on my machine, so it is not expected to work elsewhere.\n",
    "    module = ub.import_module_from_path(ub.expandpath('~/code/ubelt/ubelt'))\n",
    "    print('module = {!r}'.format(module))\n",
    "except OSError:\n",
    "    pass\n",
    "        \n",
    "module = ub.import_module_from_name('ubelt')\n",
    "print('module = {!r}'.format(module))\n",
    "\n",
    "try:\n",
    "    module = ub.import_module_from_name('does-not-exist')\n",
    "    raise AssertionError\n",
    "except ModuleNotFoundError:\n",
    "    pass\n",
    "\n",
    "modpath = ub.Path(ub.util_import.__file__)\n",
    "print(ub.modpath_to_modname(modpath))\n",
    "modname = ub.util_import.__name__\n",
    "assert ub.Path(ub.modname_to_modpath(modname)).resolve() == modpath.resolve()"
   ]
  },
  {
   "cell_type": "markdown",
   "metadata": {},
   "source": [
    "Related to this functionality are the functions\n",
    "``ub.modpath_to_modname`` and ``ub.modname_to_modpath``, which\n",
    "*statically* transform (i.e. no code in the target modules is imported\n",
    "or executed) between module names (e.g. ``ubelt.util_import``) and\n",
    "module paths (e.g.\n",
    "``~/.local/conda/envs/cenv3/lib/python3.5/site-packages/ubelt/util_import.py``)."
   ]
  },
  {
   "cell_type": "markdown",
   "metadata": {},
   "source": [
    "Horizontal String Concatenation\n",
    "-------------------------------\n",
    "\n",
    "Sometimes its just prettier to horizontally concatenate two blocks of\n",
    "text."
   ]
  },
  {
   "cell_type": "code",
   "execution_count": 181,
   "metadata": {},
   "outputs": [
    {
     "name": "stdout",
     "output_type": "stream",
     "text": [
      "A = [[1, 2], * [[5, 6],\n",
      "     [3, 4]]    [7, 8]]\n"
     ]
    }
   ],
   "source": [
    "    >>> import ubelt as ub\n",
    "    >>> B = ub.repr2([[1, 2], [3, 4]], nl=1, cbr=True, trailsep=False)\n",
    "    >>> C = ub.repr2([[5, 6], [7, 8]], nl=1, cbr=True, trailsep=False)\n",
    "    >>> print(ub.hzcat(['A = ', B, ' * ', C]))"
   ]
  }
 ],
 "metadata": {
  "kernelspec": {
   "display_name": "Python 3 (ipykernel)",
   "language": "python",
   "name": "python3"
  },
  "language_info": {
   "codemirror_mode": {
    "name": "ipython",
    "version": 3
   },
   "file_extension": ".py",
   "mimetype": "text/x-python",
   "name": "python",
   "nbconvert_exporter": "python",
   "pygments_lexer": "ipython3",
   "version": "3.9.9"
  }
 },
 "nbformat": 4,
 "nbformat_minor": 2
}
