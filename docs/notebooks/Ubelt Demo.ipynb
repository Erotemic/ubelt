{
 "cells": [
  {
   "cell_type": "markdown",
   "metadata": {},
   "source": [
    "Timing\n",
    "------\n",
    "\n",
    "Quickly time a single line."
   ]
  },
  {
   "cell_type": "code",
   "execution_count": 1,
   "metadata": {},
   "outputs": [
    {
     "name": "stdout",
     "output_type": "stream",
     "text": [
      "\n",
      "tic('Timer demo!')\n",
      "...toc('Timer demo!')=0.1446s\n"
     ]
    }
   ],
   "source": [
    "import math\n",
    "import ubelt as ub\n",
    "timer = ub.Timer('Timer demo!', verbose=1)\n",
    "with timer:\n",
    "    math.factorial(100000)"
   ]
  },
  {
   "cell_type": "markdown",
   "metadata": {},
   "source": [
    "Robust Timing and Benchmarking\n",
    "------------------------------\n",
    "\n",
    "Easily do robust timings on existing blocks of code by simply indenting\n",
    "them. The quick and dirty way just requires one indent."
   ]
  },
  {
   "cell_type": "code",
   "execution_count": 2,
   "metadata": {},
   "outputs": [
    {
     "name": "stdout",
     "output_type": "stream",
     "text": [
      "Timing for: 200 loops, best of 3\n",
      "Timed for: 200 loops, best of 3\n",
      "    body took: 473.4 ms\n",
      "    time per loop: best=1.938 ms, mean=2.208 ± 0.43 ms\n"
     ]
    }
   ],
   "source": [
    "import math\n",
    "import ubelt as ub\n",
    "for _ in ub.Timerit(num=200, verbose=3):\n",
    "    math.factorial(10000)"
   ]
  },
  {
   "cell_type": "markdown",
   "metadata": {},
   "source": [
    "Loop Progress\n",
    "-------------\n",
    "\n",
    "``ProgIter`` is a (mostly) drop-in alternative to\n",
    "```tqdm`` <https://pypi.python.org/pypi/tqdm>`__. \n",
    "*The advantage of ``ProgIter`` is that it does not use any python threading*,\n",
    "and therefore can be safer with code that makes heavy use of multiprocessing.\n",
    "\n",
    "Note: ProgIter is now a standalone module: ``pip intstall progiter``)"
   ]
  },
  {
   "cell_type": "code",
   "execution_count": 3,
   "metadata": {},
   "outputs": [
    {
     "name": "stdout",
     "output_type": "stream",
     "text": [
      " 7500/7500... rate=2151.77 Hz, eta=0:00:00, total=0:00:03, wall=22:29 ESTTT\n"
     ]
    }
   ],
   "source": [
    "import ubelt as ub\n",
    "import math\n",
    "for n in ub.ProgIter(range(7500)):\n",
    "     math.factorial(n)"
   ]
  },
  {
   "cell_type": "code",
   "execution_count": 4,
   "metadata": {},
   "outputs": [
    {
     "name": "stdout",
     "output_type": "stream",
     "text": [
      " 7500/7500... rate=560.16 Hz, eta=0:00:00, total=0:00:06, wall=22:29 ESTTST\n"
     ]
    }
   ],
   "source": [
    "import ubelt as ub\n",
    "import math\n",
    "for n in ub.ProgIter(range(7500), freq=2, adjust=False):\n",
    "     math.factorial(n)\n",
    "        \n",
    "# Note that forcing freq=2 all the time comes at a performance cost\n",
    "# The default adjustment algorithm causes almost no overhead"
   ]
  },
  {
   "cell_type": "code",
   "execution_count": 5,
   "metadata": {},
   "outputs": [
    {
     "name": "stdout",
     "output_type": "stream",
     "text": [
      "    0/1000... rate=0 Hz, eta=?, total=0:00:00, wall=22:29 EST\n",
      "    1/1000... rate=109950.53 Hz, eta=0:00:00, total=0:00:00, wall=22:29 EST\n",
      "  257/1000... rate=209392.86 Hz, eta=0:00:00, total=0:00:00, wall=22:29 EST\n",
      "  642/1000... rate=142079.56 Hz, eta=0:00:00, total=0:00:00, wall=22:29 EST\n",
      " 1000/1000... rate=105135.94 Hz, eta=0:00:00, total=0:00:00, wall=22:29 EST\n"
     ]
    }
   ],
   "source": [
    ">>> import ubelt as ub\n",
    ">>> def is_prime(n):\n",
    "...     return n >= 2 and not any(n % i == 0 for i in range(2, n))\n",
    ">>> for n in ub.ProgIter(range(1000), verbose=2):\n",
    ">>>     # do some work\n",
    ">>>     is_prime(n)"
   ]
  },
  {
   "cell_type": "markdown",
   "metadata": {},
   "source": [
    "Caching\n",
    "-------\n",
    "\n",
    "Cache intermediate results in a script with minimal boilerplate."
   ]
  },
  {
   "cell_type": "code",
   "execution_count": 6,
   "metadata": {},
   "outputs": [],
   "source": [
    "import ubelt as ub\n",
    "cfgstr = 'repr-of-params-that-uniquely-determine-the-process'\n",
    "cacher = ub.Cacher('test_process', cfgstr)\n",
    "data = cacher.tryload()\n",
    "if data is None:\n",
    "    myvar1 = 'result of expensive process'\n",
    "    myvar2 = 'another result'\n",
    "    data = myvar1, myvar2\n",
    "    cacher.save(data)\n",
    "myvar1, myvar2 = data"
   ]
  },
  {
   "cell_type": "markdown",
   "metadata": {},
   "source": [
    "Hashing\n",
    "-------\n",
    "\n",
    "The ``ub.hash_data`` constructs a hash corresponding to a (mostly)\n",
    "arbitrary ordered python object. A common use case for this function is\n",
    "to construct the ``cfgstr`` mentioned in the example for ``ub.Cacher``.\n",
    "Instead of returning a hex, string, ``ub.hash_data`` encodes the hash\n",
    "digest using the 26 lowercase letters in the roman alphabet. This makes\n",
    "the result easy to use as a filename suffix."
   ]
  },
  {
   "cell_type": "code",
   "execution_count": 7,
   "metadata": {},
   "outputs": [
    {
     "data": {
      "text/plain": [
       "'5f5fda5e8257a95ffc715e892f981202d88c324d0765a0a05cc9cf0b5303b32c38c4f6c38257989a90ba0708a21e7ea1611891bb0df8c714fd43b2ef5d09f6d8'"
      ]
     },
     "execution_count": 7,
     "metadata": {},
     "output_type": "execute_result"
    }
   ],
   "source": [
    "import ubelt as ub\n",
    "data = [('arg1', 5), ('lr', .01), ('augmenters', ['flip', 'translate'])]\n",
    "ub.hash_data(data)"
   ]
  },
  {
   "cell_type": "code",
   "execution_count": 8,
   "metadata": {},
   "outputs": [
    {
     "data": {
      "text/plain": [
       "'hpwwtvadnjcbcqwnkszdwokpdvpobngaeyaezlhjxdnbomfmylfhzwvujojiufnkmvpeyavayebrvggzjecbyqyuomglxwklwvcldjqoiofqu'"
      ]
     },
     "execution_count": 8,
     "metadata": {},
     "output_type": "execute_result"
    }
   ],
   "source": [
    "import ubelt as ub\n",
    "data = [('arg1', 5), ('lr', .01), ('augmenters', ['flip', 'translate'])]\n",
    "ub.hash_data(data, hasher='sha512', base='abc')"
   ]
  },
  {
   "cell_type": "markdown",
   "metadata": {},
   "source": [
    "Command Line Interaction\n",
    "------------------------\n",
    "\n",
    "The builtin Python ``subprocess.Popen`` module is great, but it can be a\n",
    "bit clunky at times. The ``os.system`` command is easy to use, but it\n",
    "doesn't have much flexibility. The ``ub.cmd`` function aims to fix this.\n",
    "It is as simple to run as ``os.system``, but it returns a dictionary\n",
    "containing the return code, standard out, standard error, and the\n",
    "``Popen`` object used under the hood."
   ]
  },
  {
   "cell_type": "code",
   "execution_count": 9,
   "metadata": {},
   "outputs": [
    {
     "name": "stdout",
     "output_type": "stream",
     "text": [
      "cmake version 3.11.0-rc2\n",
      "\n",
      "CMake suite maintained and supported by Kitware (kitware.com/cmake).\n",
      "\n"
     ]
    }
   ],
   "source": [
    "import ubelt as ub\n",
    "info = ub.cmd('cmake --version')\n",
    "# Quickly inspect and parse output of a \n",
    "print(info['out'])"
   ]
  },
  {
   "cell_type": "code",
   "execution_count": 10,
   "metadata": {},
   "outputs": [
    {
     "name": "stdout",
     "output_type": "stream",
     "text": [
      "{\n",
      "    'command': 'cmake --version',\n",
      "    'err': '',\n",
      "    'proc': <subprocess.Popen object at 0x7f1b36af80f0>,\n",
      "    'ret': 0,\n",
      "}\n"
     ]
    }
   ],
   "source": [
    "# The info dict contains other useful data\n",
    "print(ub.repr2({k: v for k, v in info.items() if 'out' != k}))"
   ]
  },
  {
   "cell_type": "code",
   "execution_count": 11,
   "metadata": {},
   "outputs": [
    {
     "name": "stdout",
     "output_type": "stream",
     "text": [
      "cmake version 3.11.0-rc2\n",
      "\n",
      "CMake suite maintained and supported by Kitware (kitware.com/cmake).\n"
     ]
    }
   ],
   "source": [
    "# Also possible to simultaniously capture and display output in realtime\n",
    "info = ub.cmd('cmake --version', tee=1)"
   ]
  },
  {
   "cell_type": "code",
   "execution_count": 12,
   "metadata": {},
   "outputs": [
    {
     "name": "stdout",
     "output_type": "stream",
     "text": [
      "[ubelt.cmd] joncrall@calculex:~/Dropbox$ cmake --version\n",
      "cmake version 3.11.0-rc2\n",
      "\n",
      "CMake suite maintained and supported by Kitware (kitware.com/cmake).\n"
     ]
    }
   ],
   "source": [
    "# tee=True is equivalent to using verbose=1, but there is also verbose=2\n",
    "info = ub.cmd('cmake --version', verbose=2)"
   ]
  },
  {
   "cell_type": "code",
   "execution_count": 13,
   "metadata": {},
   "outputs": [
    {
     "name": "stdout",
     "output_type": "stream",
     "text": [
      "┌─── START CMD ───\n",
      "[ubelt.cmd] joncrall@calculex:~/Dropbox$ cmake --version\n",
      "cmake version 3.11.0-rc2\n",
      "\n",
      "CMake suite maintained and supported by Kitware (kitware.com/cmake).\n",
      "└─── END CMD ───\n"
     ]
    }
   ],
   "source": [
    "# and verbose=3\n",
    "info = ub.cmd('cmake --version', verbose=3)"
   ]
  },
  {
   "cell_type": "markdown",
   "metadata": {},
   "source": [
    "Cross-Platform Resource and Cache Directories\n",
    "---------------------------------------------\n",
    "\n",
    "If you have an application which writes configuration or cache files,\n",
    "the standard place to dump those files differs depending if you are on\n",
    "Windows, Linux, or Mac. UBelt offers a unified functions for determining\n",
    "what these paths are.\n",
    "\n",
    "The ``ub.ensure_app_cache_dir`` and ``ub.ensure_app_resource_dir``\n",
    "functions find the correct platform-specific location for these files\n",
    "and ensures that the directories exist. (Note: replacing \"ensure\" with\n",
    "\"get\" will simply return the path, but not ensure that it exists)\n",
    "\n",
    "The resource root directory is ``~/AppData/Roaming`` on Windows,\n",
    "``~/.config`` on Linux and ``~/Library/Application Support`` on Mac. The\n",
    "cache root directory is ``~/AppData/Local`` on Windows, ``~/.config`` on\n",
    "Linux and ``~/Library/Caches`` on Mac.\n"
   ]
  },
  {
   "cell_type": "code",
   "execution_count": 14,
   "metadata": {},
   "outputs": [
    {
     "name": "stdout",
     "output_type": "stream",
     "text": [
      "~/.cache/my_app\n"
     ]
    }
   ],
   "source": [
    "import ubelt as ub\n",
    "print(ub.shrinkuser(ub.ensure_app_cache_dir('my_app')))"
   ]
  },
  {
   "cell_type": "markdown",
   "metadata": {},
   "source": [
    "Downloading Files\n",
    "-----------------\n",
    "\n",
    "The function ``ub.download`` provides a simple interface to download a\n",
    "URL and save its data to a file.\n",
    "\n",
    "The function ``ub.grabdata`` works similarly to ``ub.download``, but\n",
    "whereas ``ub.download`` will always re-download the file,\n",
    "``ub.grabdata`` will check if the file exists and only re-download it if\n",
    "it needs to.\n",
    "\n",
    "New in version 0.4.0: both functions now accepts the ``hash_prefix`` keyword\n",
    "argument, which if specified will check that the hash of the file matches the\n",
    "provided value. The ``hasher`` keyword argument can be used to change which\n",
    "hashing algorithm is used (it defaults to ``\"sha512\"``)."
   ]
  },
  {
   "cell_type": "code",
   "execution_count": 15,
   "metadata": {},
   "outputs": [
    {
     "name": "stdout",
     "output_type": "stream",
     "text": [
      "~/.cache/ubelt/rqwaDag.png\n"
     ]
    }
   ],
   "source": [
    "    >>> import ubelt as ub\n",
    "    >>> url = 'http://i.imgur.com/rqwaDag.png'\n",
    "    >>> fpath = ub.download(url, verbose=0)\n",
    "    >>> print(ub.shrinkuser(fpath))"
   ]
  },
  {
   "cell_type": "code",
   "execution_count": 16,
   "metadata": {},
   "outputs": [
    {
     "name": "stdout",
     "output_type": "stream",
     "text": [
      "~/.cache/ubelt/rqwaDag.png\n"
     ]
    }
   ],
   "source": [
    "    >>> import ubelt as ub\n",
    "    >>> url = 'http://i.imgur.com/rqwaDag.png'\n",
    "    >>> fpath = ub.grabdata(url, verbose=0, hash_prefix='944389a39')\n",
    "    >>> print(ub.shrinkuser(fpath))"
   ]
  },
  {
   "cell_type": "code",
   "execution_count": 17,
   "metadata": {},
   "outputs": [
    {
     "name": "stdout",
     "output_type": "stream",
     "text": [
      "hash_prefix = 'not-the-right-hash'\n",
      "got = '944389a39dfb8fa9e3d075bc25416d56782093d5dca88a1f84cac16bf515fa12aeebbbebf91f1e31e8beb59468a7a5f3a69ab12ac1e3c1d1581e1ad9688b766f'\n",
      "type(ex) = <class 'RuntimeError'>\n"
     ]
    }
   ],
   "source": [
    "try:\n",
    "   ub.grabdata(url, verbose=0, hash_prefix='not-the-right-hash')\n",
    "except Exception as ex:\n",
    "    print('type(ex) = {!r}'.format(type(ex)))"
   ]
  },
  {
   "cell_type": "markdown",
   "metadata": {},
   "source": [
    "# Dictionary Tools"
   ]
  },
  {
   "cell_type": "code",
   "execution_count": 18,
   "metadata": {
    "scrolled": true
   },
   "outputs": [
    {
     "name": "stdout",
     "output_type": "stream",
     "text": [
      "{\n",
      "    'dairy': ['cheese'],\n",
      "    'fruit': ['jam', 'bannana'],\n",
      "    'protein': ['ham', 'spam', 'eggs'],\n",
      "}\n"
     ]
    }
   ],
   "source": [
    "import ubelt as ub\n",
    "item_list    = ['ham',     'jam',   'spam',     'eggs',    'cheese', 'bannana']\n",
    "groupid_list = ['protein', 'fruit', 'protein',  'protein', 'dairy',  'fruit']\n",
    "groups = ub.group_items(item_list, groupid_list)\n",
    "print(ub.repr2(groups, nl=1))"
   ]
  },
  {
   "cell_type": "code",
   "execution_count": 19,
   "metadata": {},
   "outputs": [
    {
     "data": {
      "text/plain": [
       "{1: 1, 2: 4, 39: 1, 900: 3, 1232: 2}"
      ]
     },
     "execution_count": 19,
     "metadata": {},
     "output_type": "execute_result"
    }
   ],
   "source": [
    "import ubelt as ub\n",
    "item_list = [1, 2, 39, 900, 1232, 900, 1232, 2, 2, 2, 900]\n",
    "ub.dict_hist(item_list)"
   ]
  },
  {
   "cell_type": "code",
   "execution_count": 20,
   "metadata": {},
   "outputs": [
    {
     "data": {
      "text/plain": [
       "{0: [0, 1, 6], 2: [3, 8], 3: [4, 5]}"
      ]
     },
     "execution_count": 20,
     "metadata": {},
     "output_type": "execute_result"
    }
   ],
   "source": [
    "import ubelt as ub\n",
    "items = [0, 0, 1, 2, 3, 3, 0, 12, 2, 9]\n",
    "ub.find_duplicates(items, k=2)"
   ]
  },
  {
   "cell_type": "code",
   "execution_count": 21,
   "metadata": {},
   "outputs": [
    {
     "name": "stdout",
     "output_type": "stream",
     "text": [
      "OrderedDict([('K', 3), ('dcvs_clip_max', 0.2)])\n"
     ]
    }
   ],
   "source": [
    "import ubelt as ub\n",
    "dict_ = {'K': 3, 'dcvs_clip_max': 0.2, 'p': 0.1}\n",
    "subdict_ = ub.dict_subset(dict_, ['K', 'dcvs_clip_max'])\n",
    "print(subdict_)"
   ]
  },
  {
   "cell_type": "code",
   "execution_count": 22,
   "metadata": {},
   "outputs": [
    {
     "name": "stdout",
     "output_type": "stream",
     "text": [
      "['a', 'b', 'c', None, None]\n"
     ]
    }
   ],
   "source": [
    "import ubelt as ub\n",
    "dict_ = {1: 'a', 2: 'b', 3: 'c'}\n",
    "print(list(ub.dict_take(dict_, [1, 2, 3, 4, 5], default=None)))"
   ]
  },
  {
   "cell_type": "code",
   "execution_count": 23,
   "metadata": {},
   "outputs": [
    {
     "name": "stdout",
     "output_type": "stream",
     "text": [
      "{'a': 3, 'b': 0}\n"
     ]
    }
   ],
   "source": [
    "import ubelt as ub\n",
    "dict_ = {'a': [1, 2, 3], 'b': []}\n",
    "newdict = ub.map_vals(len, dict_)\n",
    "print(newdict)"
   ]
  },
  {
   "cell_type": "code",
   "execution_count": 24,
   "metadata": {},
   "outputs": [
    {
     "data": {
      "text/plain": [
       "{'a': 0, 'b': 1, 'c': 2, 'd': 3}"
      ]
     },
     "execution_count": 24,
     "metadata": {},
     "output_type": "execute_result"
    }
   ],
   "source": [
    "import ubelt as ub\n",
    "mapping = {0: 'a', 1: 'b', 2: 'c', 3: 'd'}\n",
    "ub.invert_dict(mapping)"
   ]
  },
  {
   "cell_type": "code",
   "execution_count": 25,
   "metadata": {},
   "outputs": [
    {
     "data": {
      "text/plain": [
       "{0: {'A', 'a'}, 1: {'b'}, 2: {'C', 'c'}, 3: {'d'}}"
      ]
     },
     "execution_count": 25,
     "metadata": {},
     "output_type": "execute_result"
    }
   ],
   "source": [
    "import ubelt as ub\n",
    "mapping = {'a': 0, 'A': 0, 'b': 1, 'c': 2, 'C': 2, 'd': 3}\n",
    "ub.invert_dict(mapping, unique_vals=False)"
   ]
  },
  {
   "cell_type": "markdown",
   "metadata": {},
   "source": [
    "AutoDict - Autovivification\n",
    "---------------------------\n",
    "\n",
    "While the ``collections.defaultdict`` is nice, it is sometimes more\n",
    "convenient to have an infinitely nested dictionary of dictionaries.\n",
    "\n",
    "(But be careful, you may start to write in Perl) "
   ]
  },
  {
   "cell_type": "code",
   "execution_count": 26,
   "metadata": {},
   "outputs": [
    {
     "name": "stdout",
     "output_type": "stream",
     "text": [
      "auto = {}\n",
      "auto = {0: {10: {100: None}}}\n",
      "auto = {0: {1: 'hello', 10: {100: None}}}\n"
     ]
    }
   ],
   "source": [
    ">>> import ubelt as ub\n",
    ">>> auto = ub.AutoDict()\n",
    ">>> print('auto = {!r}'.format(auto))\n",
    ">>> auto[0][10][100] = None\n",
    ">>> print('auto = {!r}'.format(auto))\n",
    ">>> auto[0][1] = 'hello'\n",
    ">>> print('auto = {!r}'.format(auto))"
   ]
  },
  {
   "cell_type": "markdown",
   "metadata": {},
   "source": [
    "String-based imports\n",
    "--------------------\n",
    "\n",
    "Ubelt contains functions to import modules dynamically without using the\n",
    "python ``import`` statement. While ``importlib`` exists, the ``ubelt``\n",
    "implementation is simpler to user and does not have the disadvantage of\n",
    "breaking ``pytest``.\n",
    "\n",
    "Note ``ubelt`` simply provides an interface to this functionality, the\n",
    "core implementation is in ``xdoctest``."
   ]
  },
  {
   "cell_type": "code",
   "execution_count": 27,
   "metadata": {},
   "outputs": [
    {
     "name": "stdout",
     "output_type": "stream",
     "text": [
      "module = <module 'ubelt' from '/home/joncrall/code/ubelt/ubelt/__init__.py'>\n",
      "module = <module 'ubelt' from '/home/joncrall/code/ubelt/ubelt/__init__.py'>\n",
      "ubelt.util_import\n"
     ]
    }
   ],
   "source": [
    ">>> import ubelt as ub\n",
    ">>> module = ub.import_module_from_path(ub.truepath('~/code/ubelt/ubelt'))\n",
    ">>> print('module = {!r}'.format(module))\n",
    ">>> module = ub.import_module_from_name('ubelt')\n",
    ">>> print('module = {!r}'.format(module))\n",
    "\n",
    ">>> modpath = ub.util_import.__file__\n",
    ">>> print(ub.modpath_to_modname(modpath))\n",
    ">>> modname = ub.util_import.__name__\n",
    ">>> assert ub.truepath(ub.modname_to_modpath(modname)) == modpath"
   ]
  },
  {
   "cell_type": "markdown",
   "metadata": {},
   "source": [
    "Horizontal String Concatenation\n",
    "-------------------------------\n",
    "\n",
    "Sometimes its just prettier to horizontally concatenate two blocks of\n",
    "text."
   ]
  },
  {
   "cell_type": "code",
   "execution_count": 28,
   "metadata": {},
   "outputs": [
    {
     "name": "stdout",
     "output_type": "stream",
     "text": [
      "A = [[1, 2], * [[5, 6],\n",
      "     [3, 4]]    [7, 8]]\n"
     ]
    }
   ],
   "source": [
    "    >>> import ubelt as ub\n",
    "    >>> B = ub.repr2([[1, 2], [3, 4]], nl=1, cbr=True, trailsep=False)\n",
    "    >>> C = ub.repr2([[5, 6], [7, 8]], nl=1, cbr=True, trailsep=False)\n",
    "    >>> print(ub.hzcat(['A = ', B, ' * ', C]))"
   ]
  }
 ],
 "metadata": {
  "kernelspec": {
   "display_name": "Python 3",
   "language": "python",
   "name": "python3"
  },
  "language_info": {
   "codemirror_mode": {
    "name": "ipython",
    "version": 3
   },
   "file_extension": ".py",
   "mimetype": "text/x-python",
   "name": "python",
   "nbconvert_exporter": "python",
   "pygments_lexer": "ipython3",
   "version": "3.5.2"
  }
 },
 "nbformat": 4,
 "nbformat_minor": 2
}
