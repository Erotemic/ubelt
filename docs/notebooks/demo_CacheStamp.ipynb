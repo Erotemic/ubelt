{
 "cells": [
  {
   "cell_type": "markdown",
   "id": "f33b6dee",
   "metadata": {},
   "source": [
    "# Ubelt's CacheStamp class\n",
    "\n",
    "The `ubelt.CacheStamp` class is used to mark that a block of code has been run, and it's output has been written to disk. \n",
    "\n",
    "You set up a `CacheStamp` by giving it a name and letting it know what files we expect to already exist or that need to be written. Then you, check if the stamp is \"expired\". If it is, you need to recompute the data you wish to cache and \"renew\" the stamp. If it is not expired, then you can expect that:\n",
    "\n",
    "1. The file already exist on disk.\n",
    "2. The file has not been tampered with since you wrote it.\n",
    "\n",
    "Running renew records the size, modification time (mtime), and hash (checksum) of each file registered via product. Running expired checks checks that these attributes match with existing files on disk, which gives you the tamperproof guarantee. This mechanism is similar to how Makefiles and other build systems (e.g. CMake, redo) handle detecting when files are modified. (Note that it is possible to disable the hash checks by specifying `hasher=None` while still retaining size and mtime checks, this is useful when hashing files it too expensive)."
   ]
  },
  {
   "cell_type": "code",
   "execution_count": 33,
   "id": "be0d94d8",
   "metadata": {},
   "outputs": [
    {
     "name": "stdout",
     "output_type": "stream",
     "text": [
      "[cacher] ... stamp-name cache miss\n",
      "[cacher] stamp expired no_cert\n",
      "[cacher] ... stamp-name cache save\n"
     ]
    }
   ],
   "source": [
    "import ubelt as ub\n",
    "\n",
    "dpath = ub.Path.appdir('stamp-demo').delete().ensuredir()\n",
    "fpath1 = dpath / 'large-file1.txt'\n",
    "fpath2 = dpath / 'large-file2.txt'\n",
    "\n",
    "stamp = ub.CacheStamp('stamp-name', dpath=dpath, product=[fpath1, fpath2])\n",
    "\n",
    "# If the stamp is expired, we need to recompute the process\n",
    "if stamp.expired():\n",
    "    fpath1.write_text('large-data1')\n",
    "    fpath2.write_text('large-data2')\n",
    "    # After the process is complete, renew the stamp\n",
    "    stamp.renew()\n",
    "\n",
    "# Next time the code is run, the stamp will not be expired\n",
    "assert not stamp.expired()"
   ]
  },
  {
   "cell_type": "markdown",
   "id": "541291b3",
   "metadata": {},
   "source": [
    "The 1.1.0 implementation of `CacheStamp` also contains other features. For instance, you can set an expiration duration or time for the file to expire. All properties can be updated via the constructor or by setting instance attributes. We can demo the expired property by reusing the above stamp."
   ]
  },
  {
   "cell_type": "code",
   "execution_count": 34,
   "id": "46c9dbbc",
   "metadata": {},
   "outputs": [
    {
     "name": "stdout",
     "output_type": "stream",
     "text": [
      "[cacher] ... stamp-name cache save\n",
      "[cacher] stamp expired expired_cert\n"
     ]
    }
   ],
   "source": [
    "import time\n",
    "\n",
    "# Tell the stamp it will expire 2 seconds, and renew it to set that property.\n",
    "stamp.expires = 2\n",
    "stamp.renew()\n",
    "\n",
    "assert not stamp.expired(), 'should not be expired yet'\n",
    "\n",
    "# Wait 2 seconds\n",
    "time.sleep(2.1)\n",
    "\n",
    "# The stamp is now expired\n",
    "assert stamp.expired(), 'the stamp should be expired'"
   ]
  },
  {
   "cell_type": "markdown",
   "id": "18d2847b",
   "metadata": {},
   "source": [
    "You can also specify an expected hash prefix for each file, which is useful when you know what file will be produced a-priori (e.g. downloading a known file, in fact the `ubelt.grabdata` mechanism is now implemented with `ubelt.CacheStamp`). It works something like this:"
   ]
  },
  {
   "cell_type": "code",
   "execution_count": 35,
   "id": "c49cadf9",
   "metadata": {},
   "outputs": [
    {
     "name": "stdout",
     "output_type": "stream",
     "text": [
      "[cacher] ... download-stamp cache miss\n",
      "[cacher] stamp expired no_cert\n",
      "Downloading url='https://github.com/Kitware/CMake/releases/download/v3.22.5/cmake-3.22.5.tar.gz' to fpath=Path('/home/joncrall/.cache/stamp-download-demo/cmake-3.22.5.tar.gz')\n",
      " 9785396/9785396... rate=19792642.19 Hz, eta=0:00:00, total=0:00:00\n",
      "[cacher] ... download-stamp cache save\n"
     ]
    }
   ],
   "source": [
    "import ubelt as ub\n",
    "\n",
    "url = 'https://github.com/Kitware/CMake/releases/download/v3.22.5/cmake-3.22.5.tar.gz'\n",
    "dpath = ub.Path.appdir('stamp-download-demo').delete().ensuredir()\n",
    "\n",
    "fpath = dpath / 'cmake-3.22.5.tar.gz'\n",
    "stamp = ub.CacheStamp(\n",
    "    'download-stamp',\n",
    "    dpath=dpath, \n",
    "    product=fpath,\n",
    "    hash_prefix='057d3d40d49fe1503edb62735a73de399d90c92c',\n",
    ")\n",
    "if stamp.expired():\n",
    "    ub.download(url, fpath=fpath)\n",
    "    stamp.renew()"
   ]
  },
  {
   "cell_type": "markdown",
   "id": "ca1fd88b",
   "metadata": {},
   "source": [
    "The new features added in 1.1.0 were:\n",
    "\n",
    "* Supporting expiration time\n",
    "* Supporting mtime and size checks\n",
    "* Supporting an expected hash-prefix\n",
    "\n",
    "\n",
    "https://github.com/Erotemic/ubelt/releases/tag/v1.1.0"
   ]
  },
  {
   "cell_type": "code",
   "execution_count": null,
   "id": "ba0d8805",
   "metadata": {},
   "outputs": [],
   "source": []
  }
 ],
 "metadata": {
  "kernelspec": {
   "display_name": "Python 3 (ipykernel)",
   "language": "python",
   "name": "python3"
  },
  "language_info": {
   "codemirror_mode": {
    "name": "ipython",
    "version": 3
   },
   "file_extension": ".py",
   "mimetype": "text/x-python",
   "name": "python",
   "nbconvert_exporter": "python",
   "pygments_lexer": "ipython3",
   "version": "3.9.9"
  }
 },
 "nbformat": 4,
 "nbformat_minor": 5
}
